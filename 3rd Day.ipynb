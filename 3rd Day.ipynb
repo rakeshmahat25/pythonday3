{
 "cells": [
  {
   "cell_type": "code",
   "execution_count": 1,
   "id": "2601a905",
   "metadata": {},
   "outputs": [],
   "source": [
    "thisisvariable =\"Manash\""
   ]
  },
  {
   "cell_type": "code",
   "execution_count": 3,
   "id": "a4aad0b2",
   "metadata": {},
   "outputs": [
    {
     "name": "stdout",
     "output_type": "stream",
     "text": [
      "I bought 10 Apples, 20 Banana and 4 Carrots.\n"
     ]
    }
   ],
   "source": [
    "apples = 10\n",
    "banana = 20\n",
    "carrots = 4\n",
    "print(f\"I bought {apples} Apples, {banana} Banana and {carrots} Carrots.\")"
   ]
  },
  {
   "cell_type": "code",
   "execution_count": 12,
   "id": "67a67fea",
   "metadata": {},
   "outputs": [
    {
     "name": "stdout",
     "output_type": "stream",
     "text": [
      "1\n"
     ]
    }
   ],
   "source": [
    "a = True\n",
    "b = False\n",
    "print(a-b)"
   ]
  },
  {
   "cell_type": "markdown",
   "id": "dbc292d9",
   "metadata": {},
   "source": [
    "# Variable \n",
    "### . case sensitive ( my_variable and My_Variable are different)\n",
    "### . not start with Number  ( 1name)\n",
    "### . can't used reserved work  ( print, for, else,sum )\n",
    "### . don't use space in variable name ( my name  , my_name, myname)\n",
    "### . meaningful word must be used\n",
    "### . avoid using single character in variable"
   ]
  },
  {
   "cell_type": "markdown",
   "id": "20a1f03b",
   "metadata": {},
   "source": [
    "# some good example"
   ]
  },
  {
   "cell_type": "markdown",
   "id": "056180f3",
   "metadata": {},
   "source": [
    "# List in Python"
   ]
  },
  {
   "cell_type": "code",
   "execution_count": 13,
   "id": "a3985f69",
   "metadata": {},
   "outputs": [
    {
     "name": "stdout",
     "output_type": "stream",
     "text": [
      "[1, 2, 3, 4]\n"
     ]
    },
    {
     "data": {
      "text/plain": [
       "list"
      ]
     },
     "execution_count": 13,
     "metadata": {},
     "output_type": "execute_result"
    }
   ],
   "source": [
    "my_list = [1, 2, 3, 4]\n",
    "print(my_list)\n",
    "type(my_list)"
   ]
  },
  {
   "cell_type": "code",
   "execution_count": 17,
   "id": "33069842",
   "metadata": {},
   "outputs": [
    {
     "name": "stdout",
     "output_type": "stream",
     "text": [
      "['Name', 12, 12.4, True]\n"
     ]
    },
    {
     "data": {
      "text/plain": [
       "list"
      ]
     },
     "execution_count": 17,
     "metadata": {},
     "output_type": "execute_result"
    }
   ],
   "source": [
    "# LIst is the data structure with store different types of values ( string, integer, float)\n",
    "list = [\"Name\", 12, 12.4, True] #item of list\n",
    "print(list)\n",
    "type(list)"
   ]
  },
  {
   "cell_type": "code",
   "execution_count": 15,
   "id": "03683356",
   "metadata": {},
   "outputs": [
    {
     "name": "stdout",
     "output_type": "stream",
     "text": [
      "4\n"
     ]
    }
   ],
   "source": [
    "print(len(list))"
   ]
  },
  {
   "cell_type": "code",
   "execution_count": 16,
   "id": "a2724978",
   "metadata": {},
   "outputs": [
    {
     "name": "stdout",
     "output_type": "stream",
     "text": [
      "Name\n"
     ]
    }
   ],
   "source": [
    "print(list[0])"
   ]
  },
  {
   "cell_type": "markdown",
   "id": "8866d983",
   "metadata": {},
   "source": [
    "#  index in list( ordered)"
   ]
  },
  {
   "cell_type": "code",
   "execution_count": 20,
   "id": "7acbefec",
   "metadata": {},
   "outputs": [],
   "source": [
    "list.insert(1, 22)"
   ]
  },
  {
   "cell_type": "code",
   "execution_count": 21,
   "id": "70f5cb03",
   "metadata": {},
   "outputs": [
    {
     "data": {
      "text/plain": [
       "['Name', 22, 12, 12.4, True]"
      ]
     },
     "execution_count": 21,
     "metadata": {},
     "output_type": "execute_result"
    }
   ],
   "source": [
    "list\n"
   ]
  },
  {
   "cell_type": "code",
   "execution_count": 30,
   "id": "23b697e6",
   "metadata": {},
   "outputs": [
    {
     "data": {
      "text/plain": [
       "['Hari', 'Tiresh', 'Sagar', 'Ritesh', 'Raju', 'suresh', 'Nepali']"
      ]
     },
     "execution_count": 30,
     "metadata": {},
     "output_type": "execute_result"
    }
   ],
   "source": [
    "Names =['Hari', 'Tiresh', \"Sagar\", \"Ritesh\", \"Raju\",\"suresh\", \"Nepali\"]\n",
    "Names"
   ]
  },
  {
   "cell_type": "code",
   "execution_count": 25,
   "id": "892b4133",
   "metadata": {},
   "outputs": [
    {
     "data": {
      "text/plain": [
       "[8888383, 4444433, 5444333]"
      ]
     },
     "execution_count": 25,
     "metadata": {},
     "output_type": "execute_result"
    }
   ],
   "source": [
    "phones =[8888383,4444433,5444333]\n",
    "phones"
   ]
  },
  {
   "cell_type": "code",
   "execution_count": 26,
   "id": "22987b90",
   "metadata": {},
   "outputs": [
    {
     "name": "stdout",
     "output_type": "stream",
     "text": [
      "5444333\n"
     ]
    }
   ],
   "source": [
    "print(phones[2])"
   ]
  },
  {
   "cell_type": "code",
   "execution_count": null,
   "id": "66b5d8c0",
   "metadata": {},
   "outputs": [],
   "source": [
    "# index are the numbering  inside list"
   ]
  },
  {
   "cell_type": "code",
   "execution_count": 32,
   "id": "a2ea2b87",
   "metadata": {},
   "outputs": [
    {
     "name": "stdout",
     "output_type": "stream",
     "text": [
      "suresh\n"
     ]
    }
   ],
   "source": [
    "print(Names[-2])"
   ]
  },
  {
   "cell_type": "code",
   "execution_count": 31,
   "id": "22662367",
   "metadata": {},
   "outputs": [
    {
     "name": "stdout",
     "output_type": "stream",
     "text": [
      "Nepali\n"
     ]
    }
   ],
   "source": [
    "print(Names[-1])"
   ]
  },
  {
   "cell_type": "code",
   "execution_count": 33,
   "id": "6a5b1f3a",
   "metadata": {},
   "outputs": [
    {
     "name": "stdout",
     "output_type": "stream",
     "text": [
      "Nepali\n"
     ]
    }
   ],
   "source": [
    "print(Names[6])"
   ]
  },
  {
   "cell_type": "code",
   "execution_count": 35,
   "id": "9e56c473",
   "metadata": {},
   "outputs": [
    {
     "name": "stdout",
     "output_type": "stream",
     "text": [
      "Hari\n"
     ]
    }
   ],
   "source": [
    "print(Names[-7])"
   ]
  },
  {
   "cell_type": "markdown",
   "id": "fdc410f8",
   "metadata": {},
   "source": [
    "## Negative indexing "
   ]
  },
  {
   "cell_type": "code",
   "execution_count": 42,
   "id": "58cb7a4a",
   "metadata": {},
   "outputs": [
    {
     "name": "stdout",
     "output_type": "stream",
     "text": [
      "The name of the student is Rakesh,\n",
      "He is 24 years old. He is from Kalanki\n",
      "and his height is 5.7.\n"
     ]
    }
   ],
   "source": [
    "student_details = [\"Rakesh\", 24 , \"Kalanki\", 5.7]\n",
    "print(f'''The name of the student is {student_details[0]},\n",
    "He is {student_details[1]} years old. He is from {student_details[2]}\n",
    "and his height is {student_details[3]}.''')"
   ]
  },
  {
   "cell_type": "code",
   "execution_count": 45,
   "id": "dee7f6f1",
   "metadata": {},
   "outputs": [],
   "source": [
    "# operation can be done in list ( sorting,Reverse append, insert, delete)"
   ]
  },
  {
   "cell_type": "code",
   "execution_count": 44,
   "id": "88c28963",
   "metadata": {},
   "outputs": [
    {
     "name": "stdout",
     "output_type": "stream",
     "text": [
      "[1, 3, 3, 4, 5, 5, 7, 44, 44, 44, 55, 77, 333, 333, 554]\n"
     ]
    }
   ],
   "source": [
    "nums = [1,3,5,7,5,4,3,333,44,333,554,44,44,55,77]\n",
    "nums.sort()\n",
    "print(nums)"
   ]
  },
  {
   "cell_type": "code",
   "execution_count": 48,
   "id": "29765164",
   "metadata": {},
   "outputs": [
    {
     "name": "stdout",
     "output_type": "stream",
     "text": [
      "[554, 333, 333, 77, 55, 44, 44, 44, 7, 5, 5, 4, 3, 3, 1]\n"
     ]
    }
   ],
   "source": [
    "nums = [1,3,5,7,5,4,3,333,44,333,554,44,44,55,77]\n",
    "nums.sort(reverse = True)\n",
    "print(nums)"
   ]
  },
  {
   "cell_type": "code",
   "execution_count": 49,
   "id": "2f6d4a99",
   "metadata": {},
   "outputs": [
    {
     "name": "stdout",
     "output_type": "stream",
     "text": [
      "[77, 55, 44, 44, 554, 333, 44, 333, 2223, 4, 5, 7, 2225, 3, 1]\n"
     ]
    }
   ],
   "source": [
    "nums1 = [1,3,2225,7,5,4,2223,333,44,333,554,44,44,55,77]\n",
    "nums1.reverse()\n",
    "print(nums1)"
   ]
  },
  {
   "cell_type": "code",
   "execution_count": 51,
   "id": "6af45b1c",
   "metadata": {},
   "outputs": [
    {
     "name": "stdout",
     "output_type": "stream",
     "text": [
      "15\n"
     ]
    }
   ],
   "source": [
    "# length of the list \n",
    "print(len(nums1))"
   ]
  },
  {
   "cell_type": "code",
   "execution_count": 52,
   "id": "5f540ff0",
   "metadata": {},
   "outputs": [],
   "source": [
    "# append to list item in last index\n",
    "student_details.append(\"Pass\")"
   ]
  },
  {
   "cell_type": "code",
   "execution_count": 53,
   "id": "5cf18a9f",
   "metadata": {},
   "outputs": [
    {
     "name": "stdout",
     "output_type": "stream",
     "text": [
      "['Rakesh', 24, 'Kalanki', 5.7, 'Pass']\n"
     ]
    }
   ],
   "source": [
    "print(student_details)"
   ]
  },
  {
   "cell_type": "code",
   "execution_count": 54,
   "id": "497b67a6",
   "metadata": {},
   "outputs": [],
   "source": [
    "nums.append([1,2,3,4])"
   ]
  },
  {
   "cell_type": "code",
   "execution_count": 55,
   "id": "39deec85",
   "metadata": {},
   "outputs": [
    {
     "data": {
      "text/plain": [
       "[554, 333, 333, 77, 55, 44, 44, 44, 7, 5, 5, 4, 3, 3, 1, [1, 2, 3, 4]]"
      ]
     },
     "execution_count": 55,
     "metadata": {},
     "output_type": "execute_result"
    }
   ],
   "source": [
    "nums"
   ]
  },
  {
   "cell_type": "code",
   "execution_count": 56,
   "id": "a39b40a0",
   "metadata": {},
   "outputs": [
    {
     "data": {
      "text/plain": [
       "3"
      ]
     },
     "execution_count": 56,
     "metadata": {},
     "output_type": "execute_result"
    }
   ],
   "source": [
    "nums[-1][2]"
   ]
  },
  {
   "cell_type": "code",
   "execution_count": 3,
   "id": "9954b5a0",
   "metadata": {},
   "outputs": [],
   "source": [
    "number = [554, 333, 77, 55, 44, 7, 4, 3, 1, [1, 2, 3, 4]]"
   ]
  },
  {
   "cell_type": "code",
   "execution_count": 4,
   "id": "3da3cd4b",
   "metadata": {},
   "outputs": [],
   "source": [
    "number[-1].append([99,66])"
   ]
  },
  {
   "cell_type": "code",
   "execution_count": 5,
   "id": "934b71b6",
   "metadata": {},
   "outputs": [
    {
     "name": "stdout",
     "output_type": "stream",
     "text": [
      "[554, 333, 77, 55, 44, 7, 4, 3, 1, [1, 2, 3, 4, [99, 66]]]\n"
     ]
    }
   ],
   "source": [
    "print(number)"
   ]
  },
  {
   "cell_type": "code",
   "execution_count": 6,
   "id": "dbb70959",
   "metadata": {},
   "outputs": [
    {
     "data": {
      "text/plain": [
       "66"
      ]
     },
     "execution_count": 6,
     "metadata": {},
     "output_type": "execute_result"
    }
   ],
   "source": [
    "number[-1][-1][1]"
   ]
  },
  {
   "cell_type": "code",
   "execution_count": 1,
   "id": "1f5392cb",
   "metadata": {},
   "outputs": [],
   "source": [
    "# can insert list inside list "
   ]
  },
  {
   "cell_type": "code",
   "execution_count": 7,
   "id": "1e639ace",
   "metadata": {},
   "outputs": [
    {
     "data": {
      "text/plain": [
       "4"
      ]
     },
     "execution_count": 7,
     "metadata": {},
     "output_type": "execute_result"
    }
   ],
   "source": [
    "number[-1][3]"
   ]
  },
  {
   "cell_type": "code",
   "execution_count": null,
   "id": "1eb712d5",
   "metadata": {},
   "outputs": [],
   "source": [
    "number[-1][]"
   ]
  }
 ],
 "metadata": {
  "kernelspec": {
   "display_name": "Python 3 (ipykernel)",
   "language": "python",
   "name": "python3"
  },
  "language_info": {
   "codemirror_mode": {
    "name": "ipython",
    "version": 3
   },
   "file_extension": ".py",
   "mimetype": "text/x-python",
   "name": "python",
   "nbconvert_exporter": "python",
   "pygments_lexer": "ipython3",
   "version": "3.9.7"
  }
 },
 "nbformat": 4,
 "nbformat_minor": 5
}
